{
 "cells": [
  {
   "cell_type": "markdown",
   "id": "5194cadc",
   "metadata": {},
   "source": [
    "# Q11 By M Sahil"
   ]
  },
  {
   "cell_type": "markdown",
   "id": "6a48135d",
   "metadata": {},
   "source": [
    "You have been provided with a dataset of 300 places collected by a taxi company. Each location is associated with a two-dimensional point that represents longitude and latitude. For example, ‘-112.1, 33.5’ means the longitude is -112.1 and the latitude is 33.5.\n",
    "\n",
    "Using the pairs of latitude and longitude, find location clusters, using k-means clustering, Agglomerative clustering, DBSCAN clustering, and Gaussian Mixture Model.\n",
    "Using genetic and simulated annealing algorithms, find the shortest path between places within cluster from 1 (choose the cluster algorithm with the highest Silhouette score)."
   ]
  },
  {
   "cell_type": "code",
   "execution_count": 1,
   "id": "75b5f523",
   "metadata": {},
   "outputs": [],
   "source": [
    "import numpy as np\n",
    "import pandas as pd\n",
    "import matplotlib.pyplot as plt\n",
    "\n",
    "from sklearn.preprocessing import StandardScaler\n",
    "from sklearn import preprocessing\n",
    "\n",
    "%matplotlib inline "
   ]
  },
  {
   "cell_type": "code",
   "execution_count": 2,
   "id": "b016d66d",
   "metadata": {},
   "outputs": [
    {
     "data": {
      "text/html": [
       "<div>\n",
       "<style scoped>\n",
       "    .dataframe tbody tr th:only-of-type {\n",
       "        vertical-align: middle;\n",
       "    }\n",
       "\n",
       "    .dataframe tbody tr th {\n",
       "        vertical-align: top;\n",
       "    }\n",
       "\n",
       "    .dataframe thead th {\n",
       "        text-align: right;\n",
       "    }\n",
       "</style>\n",
       "<table border=\"1\" class=\"dataframe\">\n",
       "  <thead>\n",
       "    <tr style=\"text-align: right;\">\n",
       "      <th></th>\n",
       "      <th>Unnamed: 0</th>\n",
       "      <th>longitude</th>\n",
       "      <th>latitude</th>\n",
       "    </tr>\n",
       "  </thead>\n",
       "  <tbody>\n",
       "    <tr>\n",
       "      <th>0</th>\n",
       "      <td>0</td>\n",
       "      <td>-112.070792</td>\n",
       "      <td>33.451625</td>\n",
       "    </tr>\n",
       "    <tr>\n",
       "      <th>1</th>\n",
       "      <td>1</td>\n",
       "      <td>-112.065542</td>\n",
       "      <td>33.449298</td>\n",
       "    </tr>\n",
       "    <tr>\n",
       "      <th>2</th>\n",
       "      <td>2</td>\n",
       "      <td>-112.073931</td>\n",
       "      <td>33.456491</td>\n",
       "    </tr>\n",
       "    <tr>\n",
       "      <th>3</th>\n",
       "      <td>3</td>\n",
       "      <td>-112.074866</td>\n",
       "      <td>33.470115</td>\n",
       "    </tr>\n",
       "    <tr>\n",
       "      <th>4</th>\n",
       "      <td>4</td>\n",
       "      <td>-80.525690</td>\n",
       "      <td>43.477099</td>\n",
       "    </tr>\n",
       "  </tbody>\n",
       "</table>\n",
       "</div>"
      ],
      "text/plain": [
       "   Unnamed: 0   longitude   latitude\n",
       "0           0 -112.070792  33.451625\n",
       "1           1 -112.065542  33.449298\n",
       "2           2 -112.073931  33.456491\n",
       "3           3 -112.074866  33.470115\n",
       "4           4  -80.525690  43.477099"
      ]
     },
     "execution_count": 2,
     "metadata": {},
     "output_type": "execute_result"
    }
   ],
   "source": [
    "# Import data loads and displays our summary statistics of our data\n",
    "df = pd.read_csv('places.csv')\n",
    "df.head()"
   ]
  },
  {
   "cell_type": "code",
   "execution_count": 3,
   "id": "5abae402",
   "metadata": {},
   "outputs": [
    {
     "data": {
      "text/html": [
       "<div>\n",
       "<style scoped>\n",
       "    .dataframe tbody tr th:only-of-type {\n",
       "        vertical-align: middle;\n",
       "    }\n",
       "\n",
       "    .dataframe tbody tr th {\n",
       "        vertical-align: top;\n",
       "    }\n",
       "\n",
       "    .dataframe thead th {\n",
       "        text-align: right;\n",
       "    }\n",
       "</style>\n",
       "<table border=\"1\" class=\"dataframe\">\n",
       "  <thead>\n",
       "    <tr style=\"text-align: right;\">\n",
       "      <th></th>\n",
       "      <th>longitude</th>\n",
       "      <th>latitude</th>\n",
       "    </tr>\n",
       "  </thead>\n",
       "  <tbody>\n",
       "    <tr>\n",
       "      <th>0</th>\n",
       "      <td>-112.070792</td>\n",
       "      <td>33.451625</td>\n",
       "    </tr>\n",
       "    <tr>\n",
       "      <th>1</th>\n",
       "      <td>-112.065542</td>\n",
       "      <td>33.449298</td>\n",
       "    </tr>\n",
       "    <tr>\n",
       "      <th>2</th>\n",
       "      <td>-112.073931</td>\n",
       "      <td>33.456491</td>\n",
       "    </tr>\n",
       "    <tr>\n",
       "      <th>3</th>\n",
       "      <td>-112.074866</td>\n",
       "      <td>33.470115</td>\n",
       "    </tr>\n",
       "    <tr>\n",
       "      <th>4</th>\n",
       "      <td>-80.525690</td>\n",
       "      <td>43.477099</td>\n",
       "    </tr>\n",
       "  </tbody>\n",
       "</table>\n",
       "</div>"
      ],
      "text/plain": [
       "    longitude   latitude\n",
       "0 -112.070792  33.451625\n",
       "1 -112.065542  33.449298\n",
       "2 -112.073931  33.456491\n",
       "3 -112.074866  33.470115\n",
       "4  -80.525690  43.477099"
      ]
     },
     "execution_count": 3,
     "metadata": {},
     "output_type": "execute_result"
    }
   ],
   "source": [
    "ms_df = df[['longitude','latitude']]\n",
    "ms_df.head()"
   ]
  },
  {
   "cell_type": "code",
   "execution_count": 4,
   "id": "47ce3f32",
   "metadata": {},
   "outputs": [
    {
     "data": {
      "image/png": "[encoded data removed]",
      "text/plain": [
       "<Figure size 432x288 with 1 Axes>"
      ]
     },
     "metadata": {
      "needs_background": "light"
     },
     "output_type": "display_data"
    }
   ],
   "source": [
    "# plots our data\n",
    "msplot = ms_df.plot.scatter(x='longitude',y='latitude')\n",
    "msplot.set_xlabel(\"longitude\")\n",
    "msplot.set_ylabel(\"latitude\")\n",
    "plt.show()"
   ]
  },
  {
   "cell_type": "code",
   "execution_count": 5,
   "id": "f24fbb13",
   "metadata": {},
   "outputs": [],
   "source": [
    "# scales our data\n",
    "preprocessor = preprocessing.StandardScaler().fit(ms_df)\n",
    "ms_df_transforemd = preprocessor.transform(ms_df)"
   ]
  },
  {
   "cell_type": "code",
   "execution_count": 6,
   "id": "b3190abd",
   "metadata": {},
   "outputs": [],
   "source": [
    "scaled_df = pd.DataFrame(ms_df_transforemd,  columns = ms_df.columns)"
   ]
  },
  {
   "cell_type": "code",
   "execution_count": 7,
   "id": "93eac603",
   "metadata": {},
   "outputs": [
    {
     "data": {
      "image/png": "[encoded data removed]",
      "text/plain": [
       "<Figure size 432x288 with 1 Axes>"
      ]
     },
     "metadata": {
      "needs_background": "light"
     },
     "output_type": "display_data"
    }
   ],
   "source": [
    "# plots our data\n",
    "msplot = scaled_df.plot.scatter(x='longitude',y='latitude')\n",
    "msplot.set_xlabel(\"longitude\")\n",
    "msplot.set_ylabel(\"latitude\")\n",
    "plt.show()"
   ]
  },
  {
   "cell_type": "code",
   "execution_count": 8,
   "id": "c938c973",
   "metadata": {},
   "outputs": [],
   "source": [
    "#Clustering Algorithms"
   ]
  },
  {
   "cell_type": "code",
   "execution_count": 9,
   "id": "2a9a3729",
   "metadata": {},
   "outputs": [],
   "source": [
    "from sklearn.cluster import KMeans\n",
    "wss = []\n",
    "inti_K = 5\n",
    "End_K = 11\n",
    "for i in range(inti_K,End_K):\n",
    "    fitx = KMeans(n_clusters=i, n_init=5, random_state=109).fit(scaled_df)\n",
    "    wss.append(fitx.inertia_)"
   ]
  },
  {
   "cell_type": "code",
   "execution_count": 10,
   "id": "8e422033",
   "metadata": {},
   "outputs": [
    {
     "data": {
      "image/png": "[encoded data removed]",
      "text/plain": [
       "<Figure size 792x612 with 1 Axes>"
      ]
     },
     "metadata": {
      "needs_background": "light"
     },
     "output_type": "display_data"
    }
   ],
   "source": [
    "plt.figure(figsize=(11,8.5))\n",
    "plt.plot(range(inti_K,End_K), wss, 'bx-')\n",
    "plt.xlabel('longitude')\n",
    "plt.ylabel('latitude')\n",
    "plt.title('The Elbow Method showing the optimal longitude vs latitude')\n",
    "plt.show()"
   ]
  },
  {
   "cell_type": "code",
   "execution_count": 11,
   "id": "d5f4f55b",
   "metadata": {},
   "outputs": [
    {
     "data": {
      "text/plain": [
       "7"
      ]
     },
     "execution_count": 11,
     "metadata": {},
     "output_type": "execute_result"
    }
   ],
   "source": [
    "from kneed import KneeLocator\n",
    "kl = KneeLocator(\n",
    "    range(inti_K, End_K), wss, curve=\"convex\", direction=\"decreasing\")\n",
    "kl.elbow"
   ]
  },
  {
   "cell_type": "code",
   "execution_count": 12,
   "id": "3e69a3b6",
   "metadata": {},
   "outputs": [
    {
     "data": {
      "text/plain": [
       "7"
      ]
     },
     "execution_count": 12,
     "metadata": {},
     "output_type": "execute_result"
    }
   ],
   "source": [
    "kl.elbow"
   ]
  },
  {
   "cell_type": "code",
   "execution_count": 13,
   "id": "0c263f87",
   "metadata": {},
   "outputs": [
    {
     "name": "stdout",
     "output_type": "stream",
     "text": [
      "Initialization complete\n",
      "Iteration 0, inertia 0.002018296687914807\n",
      "Converged at iteration 0: center shift 1.3359649637788756e-05 within tolerance 9.999999999999998e-05.\n",
      "Initialization complete\n",
      "Iteration 0, inertia 0.002093066967284022\n",
      "Converged at iteration 0: center shift 2.6393086710970953e-05 within tolerance 9.999999999999998e-05.\n",
      "Initialization complete\n",
      "Iteration 0, inertia 0.0023390154871587997\n",
      "Converged at iteration 0: center shift 2.754886303405119e-05 within tolerance 9.999999999999998e-05.\n",
      "Initialization complete\n",
      "Iteration 0, inertia 0.0019184226932213136\n",
      "Converged at iteration 0: center shift 1.570329578776499e-05 within tolerance 9.999999999999998e-05.\n",
      "Initialization complete\n",
      "Iteration 0, inertia 0.0017844835462918303\n",
      "Converged at iteration 0: center shift 1.3584535267403213e-05 within tolerance 9.999999999999998e-05.\n",
      "Initialization complete\n",
      "Iteration 0, inertia 0.00240790302954928\n",
      "Converged at iteration 0: center shift 2.266982355726131e-05 within tolerance 9.999999999999998e-05.\n",
      "Initialization complete\n",
      "Iteration 0, inertia 0.0025115239661784344\n",
      "Converged at iteration 0: center shift 3.235822726444762e-05 within tolerance 9.999999999999998e-05.\n",
      "Initialization complete\n",
      "Iteration 0, inertia 0.0022403470680082004\n",
      "Converged at iteration 0: center shift 2.1777495981485773e-05 within tolerance 9.999999999999998e-05.\n",
      "Initialization complete\n",
      "Iteration 0, inertia 0.0024348258479734964\n",
      "Converged at iteration 0: center shift 2.914016448151508e-05 within tolerance 9.999999999999998e-05.\n",
      "Initialization complete\n",
      "Iteration 0, inertia 0.0017936928489111553\n",
      "Converged at iteration 0: center shift 1.6212242174021325e-05 within tolerance 9.999999999999998e-05.\n"
     ]
    }
   ],
   "source": [
    "# from sklearn.cluster import KMeans\n",
    "ms_kmeans = KMeans(n_clusters=kl.elbow, random_state=109, verbose=1).fit(scaled_df)"
   ]
  },
  {
   "cell_type": "code",
   "execution_count": 14,
   "id": "b1457fbb",
   "metadata": {},
   "outputs": [
    {
     "data": {
      "image/png": "[encoded data removed]",
      "text/plain": [
       "<Figure size 720x720 with 1 Axes>"
      ]
     },
     "metadata": {
      "needs_background": "light"
     },
     "output_type": "display_data"
    }
   ],
   "source": [
    "plt.figure(figsize=(10,10))\n",
    "plt.scatter(scaled_df['longitude'],scaled_df['latitude'], c=ms_kmeans.labels_);\n",
    "plt.scatter(ms_kmeans.cluster_centers_[:,0],ms_kmeans.cluster_centers_[:,1], c='r', marker='h', s=100);"
   ]
  },
  {
   "cell_type": "code",
   "execution_count": null,
   "id": "1d84a54d",
   "metadata": {},
   "outputs": [],
   "source": []
  },
  {
   "cell_type": "code",
   "execution_count": 15,
   "id": "05efdf51",
   "metadata": {},
   "outputs": [
    {
     "data": {
      "text/plain": [
       "array([4, 4, 4, 1, 2, 5, 0, 4, 4, 0, 4, 0, 2, 1, 0, 0, 0, 1, 0, 2, 5, 2,\n",
       "       5, 0, 4, 2, 4, 2, 1, 1, 5, 0, 4, 4, 1, 0, 2, 4, 2, 0, 0, 0, 0, 0,\n",
       "       0, 2, 1, 0, 4, 1, 2, 0, 4, 3, 2, 0, 1, 3, 2, 0, 4, 2, 0, 1, 2, 0,\n",
       "       0, 4, 2, 0, 2, 4, 0, 2, 1, 1, 4, 0, 2, 4, 1, 0, 1, 2, 4, 6, 2, 4,\n",
       "       2, 4, 2, 2, 4, 5, 2, 5, 0, 0, 6, 4, 4, 2, 4, 4, 0, 0, 4, 2, 4, 4,\n",
       "       2, 0, 1, 2, 4, 4, 2, 4, 2, 2, 0, 0, 1, 2, 3, 2, 0, 2, 0, 2, 0, 5,\n",
       "       0, 4, 4, 2, 2, 4, 1, 2, 0, 0, 4, 2, 0, 0, 0, 1, 0, 3, 2, 0, 0, 2,\n",
       "       2, 2, 2, 2, 3, 3, 5, 1, 5, 4, 0, 5, 2, 2, 2, 5, 2, 4, 1, 0, 0, 4,\n",
       "       2, 0, 0, 2, 1, 2, 0, 0, 2, 0, 0, 2, 4, 2, 0, 0, 1, 4, 1, 0, 1, 4,\n",
       "       0, 1, 2, 1, 0, 1, 2, 0, 1, 5, 0, 0, 2, 0, 0, 4, 2, 2, 1, 2, 1, 2,\n",
       "       1, 2, 2, 2, 0, 0, 0, 4, 3, 1, 4, 0, 0, 2, 5, 0, 4, 0, 4, 0, 1, 4,\n",
       "       0, 0, 0, 0, 0, 0, 0, 4, 0, 0, 2, 2, 2, 2, 0, 4, 0, 1, 2, 4, 0, 5,\n",
       "       2, 6, 2, 4, 2, 4, 5, 0, 4, 0, 2, 2, 4, 4, 2, 2, 0, 0, 0, 0, 2, 2,\n",
       "       0, 5, 2, 1, 5, 1, 3, 1, 2, 1, 1, 1, 2, 1])"
      ]
     },
     "execution_count": 15,
     "metadata": {},
     "output_type": "execute_result"
    }
   ],
   "source": [
    "ms_kmeans.labels_"
   ]
  },
  {
   "cell_type": "code",
   "execution_count": 16,
   "id": "397c3867",
   "metadata": {},
   "outputs": [
    {
     "data": {
      "text/plain": [
       "0.7564842865710766"
      ]
     },
     "execution_count": 16,
     "metadata": {},
     "output_type": "execute_result"
    }
   ],
   "source": [
    "#2a.4 Quality of Clusters: Silhouette\n",
    "from sklearn.metrics import silhouette_score\n",
    "silhouette_score(scaled_df, ms_kmeans.labels_)"
   ]
  },
  {
   "cell_type": "code",
   "execution_count": 17,
   "id": "b99a4f56",
   "metadata": {},
   "outputs": [],
   "source": [
    "# Check with more k\n",
    "from sklearn.metrics import silhouette_score\n",
    "inti_K = 5\n",
    "End_K = 10\n",
    "scores = [0]\n",
    "for i in range(inti_K+1,End_K):\n",
    "    fitx = KMeans(n_clusters=i, n_init=5, random_state=109).fit(scaled_df)\n",
    "    score = silhouette_score(scaled_df, fitx.labels_)\n",
    "    scores.append(score)"
   ]
  },
  {
   "cell_type": "code",
   "execution_count": 18,
   "id": "4808657c",
   "metadata": {},
   "outputs": [
    {
     "data": {
      "image/png": "[encoded data removed]",
      "text/plain": [
       "<Figure size 792x612 with 1 Axes>"
      ]
     },
     "metadata": {
      "needs_background": "light"
     },
     "output_type": "display_data"
    }
   ],
   "source": [
    "plt.figure(figsize=(11,8.5))\n",
    "plt.plot(range(inti_K,End_K), np.array(scores), 'bx-')\n",
    "plt.xlabel('longitude')\n",
    "plt.ylabel('latitude')\n",
    "plt.title('Silhouette Scores for varying longitude vs latitude clusters')\n",
    "plt.show()"
   ]
  },
  {
   "cell_type": "code",
   "execution_count": 19,
   "id": "0aa6ad28",
   "metadata": {},
   "outputs": [],
   "source": [
    "#3b. Agglomerative Clustering\n",
    "#3b.1 Code (via scipy):"
   ]
  },
  {
   "cell_type": "code",
   "execution_count": 20,
   "id": "92bbd833",
   "metadata": {
    "scrolled": true
   },
   "outputs": [
    {
     "data": {
      "image/png": "[encoded data removed]",
      "text/plain": [
       "<Figure size 1440x2160 with 1 Axes>"
      ]
     },
     "metadata": {
      "needs_background": "light"
     },
     "output_type": "display_data"
    }
   ],
   "source": [
    "import scipy.cluster.hierarchy as hac\n",
    "from scipy.spatial.distance import pdist\n",
    "\n",
    "plt.figure(figsize=(20,30))\n",
    "dist_mat = pdist(scaled_df, metric=\"euclidean\")\n",
    "ward_data = hac.ward(dist_mat)\n",
    "hac.dendrogram(ward_data, orientation='left', leaf_font_size=5);"
   ]
  },
  {
   "cell_type": "code",
   "execution_count": 21,
   "id": "455b883a",
   "metadata": {},
   "outputs": [
    {
     "data": {
      "text/plain": [
       "array([4, 4, 4, 2, 0, 0, 1, 4, 4, 1, 4, 1, 0, 2, 1, 1, 1, 2, 1, 0, 0, 0,\n",
       "       0, 1, 4, 0, 4, 0, 2, 4, 0, 1, 4, 4, 2, 1, 0, 4, 0, 1, 1, 1, 1, 1,\n",
       "       1, 0, 2, 1, 4, 2, 0, 1, 4, 3, 0, 1, 2, 3, 0, 1, 4, 0, 1, 2, 0, 1,\n",
       "       1, 4, 0, 1, 0, 4, 1, 0, 2, 2, 4, 1, 0, 4, 2, 1, 2, 0, 4, 2, 0, 4,\n",
       "       0, 4, 0, 0, 4, 0, 0, 0, 1, 1, 2, 4, 4, 0, 4, 4, 1, 1, 4, 0, 4, 4,\n",
       "       0, 1, 2, 0, 4, 4, 0, 4, 0, 0, 1, 1, 2, 0, 3, 0, 1, 0, 1, 0, 1, 0,\n",
       "       1, 4, 4, 0, 0, 4, 2, 0, 1, 1, 4, 0, 1, 1, 1, 2, 1, 3, 0, 1, 1, 0,\n",
       "       0, 0, 0, 0, 3, 3, 0, 2, 0, 4, 1, 0, 0, 0, 0, 0, 0, 4, 2, 1, 1, 4,\n",
       "       0, 1, 1, 0, 2, 0, 1, 1, 0, 1, 1, 0, 4, 0, 1, 1, 2, 4, 2, 1, 2, 4,\n",
       "       1, 2, 0, 2, 1, 2, 0, 1, 2, 0, 1, 1, 0, 1, 1, 4, 0, 0, 2, 0, 2, 0,\n",
       "       2, 0, 0, 0, 1, 1, 1, 4, 1, 2, 4, 1, 1, 0, 0, 1, 4, 1, 4, 1, 2, 4,\n",
       "       1, 1, 1, 1, 1, 1, 1, 4, 1, 1, 0, 0, 0, 0, 1, 4, 1, 2, 0, 4, 1, 0,\n",
       "       0, 2, 0, 4, 0, 4, 0, 1, 4, 1, 0, 0, 4, 4, 0, 0, 1, 1, 1, 1, 0, 0,\n",
       "       1, 0, 0, 2, 0, 2, 3, 2, 0, 2, 2, 2, 0, 2], dtype=int64)"
      ]
     },
     "execution_count": 21,
     "metadata": {},
     "output_type": "execute_result"
    }
   ],
   "source": [
    "from sklearn.cluster import AgglomerativeClustering\n",
    "\n",
    "Agglomerativecluster = AgglomerativeClustering(n_clusters=5, affinity='euclidean', linkage='ward')\n",
    "Agglomerativecluster.fit_predict(scaled_df)"
   ]
  },
  {
   "cell_type": "code",
   "execution_count": 22,
   "id": "17c93289",
   "metadata": {},
   "outputs": [
    {
     "data": {
      "text/plain": [
       "<matplotlib.collections.PathCollection at 0x1feaf7fcb50>"
      ]
     },
     "execution_count": 22,
     "metadata": {},
     "output_type": "execute_result"
    },
    {
     "data": {
      "image/png": "[encoded data removed]",
      "text/plain": [
       "<Figure size 720x504 with 1 Axes>"
      ]
     },
     "metadata": {
      "needs_background": "light"
     },
     "output_type": "display_data"
    }
   ],
   "source": [
    "plt.figure(figsize=(10, 7))\n",
    "data = scaled_df.values\n",
    "plt.scatter(data[:,0], data[:,1], c=Agglomerativecluster.labels_, cmap='rainbow')"
   ]
  },
  {
   "cell_type": "code",
   "execution_count": 23,
   "id": "f7c2fed3",
   "metadata": {},
   "outputs": [
    {
     "data": {
      "text/plain": [
       "0.8476044172896635"
      ]
     },
     "execution_count": 23,
     "metadata": {},
     "output_type": "execute_result"
    }
   ],
   "source": [
    "#3b.2 Quality of Clusters: Silhouette\n",
    "silhouette_score(scaled_df, Agglomerativecluster.labels_)"
   ]
  },
  {
   "cell_type": "code",
   "execution_count": 24,
   "id": "c9ed99ee",
   "metadata": {},
   "outputs": [],
   "source": [
    "#3c. DBscan Clustering\n",
    "from sklearn.cluster import DBSCAN\n",
    "fitted_dbscan = DBSCAN(eps=0.4).fit(scaled_df)"
   ]
  },
  {
   "cell_type": "code",
   "execution_count": 25,
   "id": "fbd9c113",
   "metadata": {},
   "outputs": [
    {
     "data": {
      "text/plain": [
       "<matplotlib.collections.PathCollection at 0x1feaef4f6d0>"
      ]
     },
     "execution_count": 25,
     "metadata": {},
     "output_type": "execute_result"
    },
    {
     "data": {
      "image/png": "[encoded data removed]",
      "text/plain": [
       "<Figure size 720x504 with 1 Axes>"
      ]
     },
     "metadata": {
      "needs_background": "light"
     },
     "output_type": "display_data"
    }
   ],
   "source": [
    "plt.figure(figsize=(10, 7))\n",
    "data = scaled_df.values\n",
    "plt.scatter(data[:,0], data[:,1], c=fitted_dbscan.labels_, cmap='rainbow')"
   ]
  },
  {
   "cell_type": "code",
   "execution_count": 26,
   "id": "9721442d",
   "metadata": {},
   "outputs": [
    {
     "data": {
      "text/plain": [
       "0.9977041776728723"
      ]
     },
     "execution_count": 26,
     "metadata": {},
     "output_type": "execute_result"
    }
   ],
   "source": [
    "silhouette_score(scaled_df, fitted_dbscan.labels_)"
   ]
  },
  {
   "cell_type": "code",
   "execution_count": 27,
   "id": "46019063",
   "metadata": {},
   "outputs": [
    {
     "data": {
      "text/plain": [
       "array([0, 0, 0, 0, 1, 1, 2, 0, 0, 2, 0, 2, 1, 0, 2, 2, 2, 0, 2, 1, 1, 1,\n",
       "       1, 2, 0, 1, 0, 1, 0, 0, 1, 2, 0, 0, 0, 2, 1, 0, 1, 2, 2, 2, 2, 2,\n",
       "       2, 1, 0, 2, 0, 0, 1, 2, 0, 2, 1, 2, 0, 2, 1, 2, 0, 1, 2, 0, 1, 2,\n",
       "       2, 0, 1, 2, 1, 0, 2, 1, 0, 0, 0, 2, 1, 0, 0, 2, 0, 1, 0, 0, 1, 0,\n",
       "       1, 0, 1, 1, 0, 1, 1, 1, 2, 2, 0, 0, 0, 1, 0, 0, 2, 2, 0, 1, 0, 0,\n",
       "       1, 2, 0, 1, 0, 0, 1, 0, 1, 1, 2, 2, 0, 1, 2, 1, 2, 1, 2, 1, 2, 1,\n",
       "       2, 0, 0, 1, 1, 0, 0, 1, 2, 2, 0, 1, 2, 2, 2, 0, 2, 2, 1, 2, 2, 1,\n",
       "       1, 1, 1, 1, 2, 2, 1, 0, 1, 0, 2, 1, 1, 1, 1, 1, 1, 0, 0, 2, 2, 0,\n",
       "       1, 2, 2, 1, 0, 1, 2, 2, 1, 2, 2, 1, 0, 1, 2, 2, 0, 0, 0, 2, 0, 0,\n",
       "       2, 0, 1, 0, 2, 0, 1, 2, 0, 1, 2, 2, 1, 2, 2, 0, 1, 1, 0, 1, 0, 1,\n",
       "       0, 1, 1, 1, 2, 2, 2, 0, 2, 0, 0, 2, 2, 1, 1, 2, 0, 2, 0, 2, 0, 0,\n",
       "       2, 2, 2, 2, 2, 2, 2, 0, 2, 2, 1, 1, 1, 1, 2, 0, 2, 0, 1, 0, 2, 1,\n",
       "       1, 0, 1, 0, 1, 0, 1, 2, 0, 2, 1, 1, 0, 0, 1, 1, 2, 2, 2, 2, 1, 1,\n",
       "       2, 1, 1, 0, 1, 0, 2, 0, 1, 0, 0, 0, 1, 0], dtype=int64)"
      ]
     },
     "execution_count": 27,
     "metadata": {},
     "output_type": "execute_result"
    }
   ],
   "source": [
    "fitted_dbscan.labels_"
   ]
  },
  {
   "cell_type": "code",
   "execution_count": 28,
   "id": "70cf954d",
   "metadata": {},
   "outputs": [],
   "source": [
    "testdf = ms_df.copy()"
   ]
  },
  {
   "cell_type": "code",
   "execution_count": 29,
   "id": "98666341",
   "metadata": {},
   "outputs": [],
   "source": [
    "testdf['cluster_label'] = fitted_dbscan.labels_"
   ]
  },
  {
   "cell_type": "code",
   "execution_count": 30,
   "id": "9017b9f7",
   "metadata": {},
   "outputs": [
    {
     "data": {
      "text/html": [
       "<div>\n",
       "<style scoped>\n",
       "    .dataframe tbody tr th:only-of-type {\n",
       "        vertical-align: middle;\n",
       "    }\n",
       "\n",
       "    .dataframe tbody tr th {\n",
       "        vertical-align: top;\n",
       "    }\n",
       "\n",
       "    .dataframe thead th {\n",
       "        text-align: right;\n",
       "    }\n",
       "</style>\n",
       "<table border=\"1\" class=\"dataframe\">\n",
       "  <thead>\n",
       "    <tr style=\"text-align: right;\">\n",
       "      <th></th>\n",
       "      <th>longitude</th>\n",
       "      <th>latitude</th>\n",
       "      <th>cluster_label</th>\n",
       "    </tr>\n",
       "  </thead>\n",
       "  <tbody>\n",
       "    <tr>\n",
       "      <th>0</th>\n",
       "      <td>-112.070792</td>\n",
       "      <td>33.451625</td>\n",
       "      <td>0</td>\n",
       "    </tr>\n",
       "    <tr>\n",
       "      <th>1</th>\n",
       "      <td>-112.065542</td>\n",
       "      <td>33.449298</td>\n",
       "      <td>0</td>\n",
       "    </tr>\n",
       "    <tr>\n",
       "      <th>2</th>\n",
       "      <td>-112.073931</td>\n",
       "      <td>33.456491</td>\n",
       "      <td>0</td>\n",
       "    </tr>\n",
       "    <tr>\n",
       "      <th>3</th>\n",
       "      <td>-112.074866</td>\n",
       "      <td>33.470115</td>\n",
       "      <td>0</td>\n",
       "    </tr>\n",
       "    <tr>\n",
       "      <th>4</th>\n",
       "      <td>-80.525690</td>\n",
       "      <td>43.477099</td>\n",
       "      <td>1</td>\n",
       "    </tr>\n",
       "    <tr>\n",
       "      <th>5</th>\n",
       "      <td>-80.526641</td>\n",
       "      <td>43.485875</td>\n",
       "      <td>1</td>\n",
       "    </tr>\n",
       "    <tr>\n",
       "      <th>6</th>\n",
       "      <td>-80.846495</td>\n",
       "      <td>35.225825</td>\n",
       "      <td>2</td>\n",
       "    </tr>\n",
       "    <tr>\n",
       "      <th>7</th>\n",
       "      <td>-112.074428</td>\n",
       "      <td>33.448491</td>\n",
       "      <td>0</td>\n",
       "    </tr>\n",
       "    <tr>\n",
       "      <th>8</th>\n",
       "      <td>-112.073101</td>\n",
       "      <td>33.429907</td>\n",
       "      <td>0</td>\n",
       "    </tr>\n",
       "    <tr>\n",
       "      <th>9</th>\n",
       "      <td>-80.839636</td>\n",
       "      <td>35.227054</td>\n",
       "      <td>2</td>\n",
       "    </tr>\n",
       "    <tr>\n",
       "      <th>10</th>\n",
       "      <td>-112.073815</td>\n",
       "      <td>33.448751</td>\n",
       "      <td>0</td>\n",
       "    </tr>\n",
       "    <tr>\n",
       "      <th>11</th>\n",
       "      <td>-80.843950</td>\n",
       "      <td>35.225394</td>\n",
       "      <td>2</td>\n",
       "    </tr>\n",
       "    <tr>\n",
       "      <th>12</th>\n",
       "      <td>-80.536183</td>\n",
       "      <td>43.472280</td>\n",
       "      <td>1</td>\n",
       "    </tr>\n",
       "    <tr>\n",
       "      <th>13</th>\n",
       "      <td>-112.074283</td>\n",
       "      <td>33.478793</td>\n",
       "      <td>0</td>\n",
       "    </tr>\n",
       "    <tr>\n",
       "      <th>14</th>\n",
       "      <td>-80.840432</td>\n",
       "      <td>35.227479</td>\n",
       "      <td>2</td>\n",
       "    </tr>\n",
       "    <tr>\n",
       "      <th>15</th>\n",
       "      <td>-80.841999</td>\n",
       "      <td>35.228314</td>\n",
       "      <td>2</td>\n",
       "    </tr>\n",
       "    <tr>\n",
       "      <th>16</th>\n",
       "      <td>-80.846935</td>\n",
       "      <td>35.225860</td>\n",
       "      <td>2</td>\n",
       "    </tr>\n",
       "    <tr>\n",
       "      <th>17</th>\n",
       "      <td>-112.074115</td>\n",
       "      <td>33.475583</td>\n",
       "      <td>0</td>\n",
       "    </tr>\n",
       "    <tr>\n",
       "      <th>18</th>\n",
       "      <td>-80.968306</td>\n",
       "      <td>35.283424</td>\n",
       "      <td>2</td>\n",
       "    </tr>\n",
       "    <tr>\n",
       "      <th>19</th>\n",
       "      <td>-80.540838</td>\n",
       "      <td>43.484427</td>\n",
       "      <td>1</td>\n",
       "    </tr>\n",
       "  </tbody>\n",
       "</table>\n",
       "</div>"
      ],
      "text/plain": [
       "     longitude   latitude  cluster_label\n",
       "0  -112.070792  33.451625              0\n",
       "1  -112.065542  33.449298              0\n",
       "2  -112.073931  33.456491              0\n",
       "3  -112.074866  33.470115              0\n",
       "4   -80.525690  43.477099              1\n",
       "5   -80.526641  43.485875              1\n",
       "6   -80.846495  35.225825              2\n",
       "7  -112.074428  33.448491              0\n",
       "8  -112.073101  33.429907              0\n",
       "9   -80.839636  35.227054              2\n",
       "10 -112.073815  33.448751              0\n",
       "11  -80.843950  35.225394              2\n",
       "12  -80.536183  43.472280              1\n",
       "13 -112.074283  33.478793              0\n",
       "14  -80.840432  35.227479              2\n",
       "15  -80.841999  35.228314              2\n",
       "16  -80.846935  35.225860              2\n",
       "17 -112.074115  33.475583              0\n",
       "18  -80.968306  35.283424              2\n",
       "19  -80.540838  43.484427              1"
      ]
     },
     "execution_count": 30,
     "metadata": {},
     "output_type": "execute_result"
    }
   ],
   "source": [
    "testdf.head(20)"
   ]
  },
  {
   "cell_type": "code",
   "execution_count": 31,
   "id": "73faec71",
   "metadata": {},
   "outputs": [
    {
     "data": {
      "text/plain": [
       "0.9174872729574747"
      ]
     },
     "execution_count": 31,
     "metadata": {},
     "output_type": "execute_result"
    }
   ],
   "source": [
    "#To compare how close two classes or clutsers close to each others\n",
    "from sklearn.metrics.cluster import normalized_mutual_info_score\n",
    "normalized_mutual_info_score(ms_kmeans.labels_, Agglomerativecluster.labels_)"
   ]
  },
  {
   "cell_type": "code",
   "execution_count": 32,
   "id": "2c190c43",
   "metadata": {},
   "outputs": [],
   "source": [
    "#Pipeline\n",
    "from sklearn.pipeline import Pipeline"
   ]
  },
  {
   "cell_type": "code",
   "execution_count": 33,
   "id": "59643be9",
   "metadata": {},
   "outputs": [
    {
     "name": "stdout",
     "output_type": "stream",
     "text": [
      "Initialization complete\n",
      "Iteration 0, inertia 0.002018296687914807\n",
      "Converged at iteration 0: center shift 1.3359649637788756e-05 within tolerance 9.999999999999998e-05.\n",
      "Initialization complete\n",
      "Iteration 0, inertia 0.002093066967284022\n",
      "Converged at iteration 0: center shift 2.6393086710970953e-05 within tolerance 9.999999999999998e-05.\n",
      "Initialization complete\n",
      "Iteration 0, inertia 0.0023390154871587997\n",
      "Converged at iteration 0: center shift 2.754886303405119e-05 within tolerance 9.999999999999998e-05.\n",
      "Initialization complete\n",
      "Iteration 0, inertia 0.0019184226932213136\n",
      "Converged at iteration 0: center shift 1.570329578776499e-05 within tolerance 9.999999999999998e-05.\n",
      "Initialization complete\n",
      "Iteration 0, inertia 0.0017844835462918303\n",
      "Converged at iteration 0: center shift 1.3584535267403213e-05 within tolerance 9.999999999999998e-05.\n",
      "Initialization complete\n",
      "Iteration 0, inertia 0.00240790302954928\n",
      "Converged at iteration 0: center shift 2.266982355726131e-05 within tolerance 9.999999999999998e-05.\n",
      "Initialization complete\n",
      "Iteration 0, inertia 0.0025115239661784344\n",
      "Converged at iteration 0: center shift 3.235822726444762e-05 within tolerance 9.999999999999998e-05.\n",
      "Initialization complete\n",
      "Iteration 0, inertia 0.0022403470680082004\n",
      "Converged at iteration 0: center shift 2.1777495981485773e-05 within tolerance 9.999999999999998e-05.\n",
      "Initialization complete\n",
      "Iteration 0, inertia 0.0024348258479734964\n",
      "Converged at iteration 0: center shift 2.914016448151508e-05 within tolerance 9.999999999999998e-05.\n",
      "Initialization complete\n",
      "Iteration 0, inertia 0.0017936928489111553\n",
      "Converged at iteration 0: center shift 1.6212242174021325e-05 within tolerance 9.999999999999998e-05.\n"
     ]
    },
    {
     "data": {
      "text/plain": [
       "Pipeline(steps=[('Scaler_Input', StandardScaler()),\n",
       "                ('Cluster', KMeans(n_clusters=7, random_state=109, verbose=1))])"
      ]
     },
     "execution_count": 33,
     "metadata": {},
     "output_type": "execute_result"
    }
   ],
   "source": [
    "# Pipeline\n",
    "pipeLine = Pipeline([('Scaler_Input',preprocessor), ('Cluster', ms_kmeans)])\n",
    "pipeLine.fit(ms_df)"
   ]
  },
  {
   "cell_type": "code",
   "execution_count": 34,
   "id": "f8936a5f",
   "metadata": {},
   "outputs": [
    {
     "data": {
      "text/plain": [
       "array([4, 4, 4, 1, 2, 5, 0, 4, 4, 0, 4, 0, 2, 1, 0, 0, 0, 1, 0, 2, 5, 2,\n",
       "       5, 0, 4, 2, 4, 2, 1, 1, 5, 0, 4, 4, 1, 0, 2, 4, 2, 0, 0, 0, 0, 0,\n",
       "       0, 2, 1, 0, 4, 1, 2, 0, 4, 3, 2, 0, 1, 3, 2, 0, 4, 2, 0, 1, 2, 0,\n",
       "       0, 4, 2, 0, 2, 4, 0, 2, 1, 1, 4, 0, 2, 4, 1, 0, 1, 2, 4, 6, 2, 4,\n",
       "       2, 4, 2, 2, 4, 5, 2, 5, 0, 0, 6, 4, 4, 2, 4, 4, 0, 0, 4, 2, 4, 4,\n",
       "       2, 0, 1, 2, 4, 4, 2, 4, 2, 2, 0, 0, 1, 2, 3, 2, 0, 2, 0, 2, 0, 5,\n",
       "       0, 4, 4, 2, 2, 4, 1, 2, 0, 0, 4, 2, 0, 0, 0, 1, 0, 3, 2, 0, 0, 2,\n",
       "       2, 2, 2, 2, 3, 3, 5, 1, 5, 4, 0, 5, 2, 2, 2, 5, 2, 4, 1, 0, 0, 4,\n",
       "       2, 0, 0, 2, 1, 2, 0, 0, 2, 0, 0, 2, 4, 2, 0, 0, 1, 4, 1, 0, 1, 4,\n",
       "       0, 1, 2, 1, 0, 1, 2, 0, 1, 5, 0, 0, 2, 0, 0, 4, 2, 2, 1, 2, 1, 2,\n",
       "       1, 2, 2, 2, 0, 0, 0, 4, 3, 1, 4, 0, 0, 2, 5, 0, 4, 0, 4, 0, 1, 4,\n",
       "       0, 0, 0, 0, 0, 0, 0, 4, 0, 0, 2, 2, 2, 2, 0, 4, 0, 1, 2, 4, 0, 5,\n",
       "       2, 6, 2, 4, 2, 4, 5, 0, 4, 0, 2, 2, 4, 4, 2, 2, 0, 0, 0, 0, 2, 2,\n",
       "       0, 5, 2, 1, 5, 1, 3, 1, 2, 1, 1, 1, 2, 1])"
      ]
     },
     "execution_count": 34,
     "metadata": {},
     "output_type": "execute_result"
    }
   ],
   "source": [
    "# Predict using pipeline\n",
    "pipeLine.predict(ms_df)"
   ]
  },
  {
   "cell_type": "code",
   "execution_count": 35,
   "id": "f3c4d95e",
   "metadata": {},
   "outputs": [],
   "source": [
    "#Predict claster giving new dataset\n",
    "d = {'longitude':[-80,112], 'latitude' : [33,43]}\n",
    "df_new = pd.DataFrame(data=d)"
   ]
  },
  {
   "cell_type": "code",
   "execution_count": 36,
   "id": "c0fd0993",
   "metadata": {},
   "outputs": [
    {
     "data": {
      "text/html": [
       "<div>\n",
       "<style scoped>\n",
       "    .dataframe tbody tr th:only-of-type {\n",
       "        vertical-align: middle;\n",
       "    }\n",
       "\n",
       "    .dataframe tbody tr th {\n",
       "        vertical-align: top;\n",
       "    }\n",
       "\n",
       "    .dataframe thead th {\n",
       "        text-align: right;\n",
       "    }\n",
       "</style>\n",
       "<table border=\"1\" class=\"dataframe\">\n",
       "  <thead>\n",
       "    <tr style=\"text-align: right;\">\n",
       "      <th></th>\n",
       "      <th>longitude</th>\n",
       "      <th>latitude</th>\n",
       "    </tr>\n",
       "  </thead>\n",
       "  <tbody>\n",
       "    <tr>\n",
       "      <th>0</th>\n",
       "      <td>-80</td>\n",
       "      <td>33</td>\n",
       "    </tr>\n",
       "    <tr>\n",
       "      <th>1</th>\n",
       "      <td>112</td>\n",
       "      <td>43</td>\n",
       "    </tr>\n",
       "  </tbody>\n",
       "</table>\n",
       "</div>"
      ],
      "text/plain": [
       "   longitude  latitude\n",
       "0        -80        33\n",
       "1        112        43"
      ]
     },
     "execution_count": 36,
     "metadata": {},
     "output_type": "execute_result"
    }
   ],
   "source": [
    "df_new"
   ]
  },
  {
   "cell_type": "code",
   "execution_count": 37,
   "id": "d40d9730",
   "metadata": {},
   "outputs": [
    {
     "data": {
      "text/plain": [
       "array([3, 2])"
      ]
     },
     "execution_count": 37,
     "metadata": {},
     "output_type": "execute_result"
    }
   ],
   "source": [
    "# Predict using pipeline\n",
    "pipeLine.predict(df_new)"
   ]
  },
  {
   "cell_type": "code",
   "execution_count": 38,
   "id": "536db7fb",
   "metadata": {},
   "outputs": [
    {
     "data": {
      "text/plain": [
       "array([3, 2])"
      ]
     },
     "execution_count": 38,
     "metadata": {},
     "output_type": "execute_result"
    }
   ],
   "source": [
    "\n",
    "df_new_scaled = preprocessor.transform(df_new)\n",
    "ms_kmeans.predict(df_new_scaled)"
   ]
  },
  {
   "cell_type": "code",
   "execution_count": 39,
   "id": "4154d159",
   "metadata": {},
   "outputs": [
    {
     "name": "stdout",
     "output_type": "stream",
     "text": [
      "Initialization complete\n",
      "Iteration 0, inertia 0.002018296687914807\n",
      "Converged at iteration 0: center shift 1.3359649637788756e-05 within tolerance 9.999999999999998e-05.\n",
      "Initialization complete\n",
      "Iteration 0, inertia 0.002093066967284022\n",
      "Converged at iteration 0: center shift 2.6393086710970953e-05 within tolerance 9.999999999999998e-05.\n",
      "Initialization complete\n",
      "Iteration 0, inertia 0.0023390154871587997\n",
      "Converged at iteration 0: center shift 2.754886303405119e-05 within tolerance 9.999999999999998e-05.\n",
      "Initialization complete\n",
      "Iteration 0, inertia 0.0019184226932213136\n",
      "Converged at iteration 0: center shift 1.570329578776499e-05 within tolerance 9.999999999999998e-05.\n",
      "Initialization complete\n",
      "Iteration 0, inertia 0.0017844835462918303\n",
      "Converged at iteration 0: center shift 1.3584535267403213e-05 within tolerance 9.999999999999998e-05.\n",
      "Initialization complete\n",
      "Iteration 0, inertia 0.00240790302954928\n",
      "Converged at iteration 0: center shift 2.266982355726131e-05 within tolerance 9.999999999999998e-05.\n",
      "Initialization complete\n",
      "Iteration 0, inertia 0.0025115239661784344\n",
      "Converged at iteration 0: center shift 3.235822726444762e-05 within tolerance 9.999999999999998e-05.\n",
      "Initialization complete\n",
      "Iteration 0, inertia 0.0022403470680082004\n",
      "Converged at iteration 0: center shift 2.1777495981485773e-05 within tolerance 9.999999999999998e-05.\n",
      "Initialization complete\n",
      "Iteration 0, inertia 0.0024348258479734964\n",
      "Converged at iteration 0: center shift 2.914016448151508e-05 within tolerance 9.999999999999998e-05.\n",
      "Initialization complete\n",
      "Iteration 0, inertia 0.0017936928489111553\n",
      "Converged at iteration 0: center shift 1.6212242174021325e-05 within tolerance 9.999999999999998e-05.\n"
     ]
    }
   ],
   "source": [
    "ms_df['cluster_label'] = pipeLine.fit_predict(ms_df)"
   ]
  },
  {
   "cell_type": "code",
   "execution_count": 40,
   "id": "e7b38525",
   "metadata": {},
   "outputs": [
    {
     "data": {
      "text/html": [
       "<div>\n",
       "<style scoped>\n",
       "    .dataframe tbody tr th:only-of-type {\n",
       "        vertical-align: middle;\n",
       "    }\n",
       "\n",
       "    .dataframe tbody tr th {\n",
       "        vertical-align: top;\n",
       "    }\n",
       "\n",
       "    .dataframe thead th {\n",
       "        text-align: right;\n",
       "    }\n",
       "</style>\n",
       "<table border=\"1\" class=\"dataframe\">\n",
       "  <thead>\n",
       "    <tr style=\"text-align: right;\">\n",
       "      <th></th>\n",
       "      <th>longitude</th>\n",
       "      <th>latitude</th>\n",
       "      <th>cluster_label</th>\n",
       "    </tr>\n",
       "  </thead>\n",
       "  <tbody>\n",
       "    <tr>\n",
       "      <th>0</th>\n",
       "      <td>-112.070792</td>\n",
       "      <td>33.451625</td>\n",
       "      <td>4</td>\n",
       "    </tr>\n",
       "    <tr>\n",
       "      <th>1</th>\n",
       "      <td>-112.065542</td>\n",
       "      <td>33.449298</td>\n",
       "      <td>4</td>\n",
       "    </tr>\n",
       "    <tr>\n",
       "      <th>2</th>\n",
       "      <td>-112.073931</td>\n",
       "      <td>33.456491</td>\n",
       "      <td>4</td>\n",
       "    </tr>\n",
       "    <tr>\n",
       "      <th>3</th>\n",
       "      <td>-112.074866</td>\n",
       "      <td>33.470115</td>\n",
       "      <td>1</td>\n",
       "    </tr>\n",
       "    <tr>\n",
       "      <th>4</th>\n",
       "      <td>-80.525690</td>\n",
       "      <td>43.477099</td>\n",
       "      <td>2</td>\n",
       "    </tr>\n",
       "  </tbody>\n",
       "</table>\n",
       "</div>"
      ],
      "text/plain": [
       "    longitude   latitude  cluster_label\n",
       "0 -112.070792  33.451625              4\n",
       "1 -112.065542  33.449298              4\n",
       "2 -112.073931  33.456491              4\n",
       "3 -112.074866  33.470115              1\n",
       "4  -80.525690  43.477099              2"
      ]
     },
     "execution_count": 40,
     "metadata": {},
     "output_type": "execute_result"
    }
   ],
   "source": [
    "ms_df.head()"
   ]
  },
  {
   "cell_type": "code",
   "execution_count": 41,
   "id": "33c0befb",
   "metadata": {},
   "outputs": [
    {
     "name": "stdout",
     "output_type": "stream",
     "text": [
      "There are 100 locations in each cluster\n"
     ]
    },
    {
     "data": {
      "text/plain": [
       "0    92\n",
       "2    83\n",
       "4    56\n",
       "1    41\n",
       "5    17\n",
       "3     8\n",
       "6     3\n",
       "Name: cluster_label, dtype: int64"
      ]
     },
     "execution_count": 41,
     "metadata": {},
     "output_type": "execute_result"
    }
   ],
   "source": [
    "print(\"There are 100 locations in each cluster\")\n",
    "ms_df['cluster_label'].value_counts()"
   ]
  },
  {
   "cell_type": "code",
   "execution_count": 42,
   "id": "9cd27ba5",
   "metadata": {},
   "outputs": [
    {
     "data": {
      "text/plain": [
       "array([4, 1, 2, 5, 0, 3, 6])"
      ]
     },
     "execution_count": 42,
     "metadata": {},
     "output_type": "execute_result"
    }
   ],
   "source": [
    "clusters = ms_df['cluster_label'].unique()\n",
    "clusters"
   ]
  },
  {
   "cell_type": "code",
   "execution_count": 43,
   "id": "1cc62f73",
   "metadata": {},
   "outputs": [
    {
     "data": {
      "text/plain": [
       "4"
      ]
     },
     "execution_count": 43,
     "metadata": {},
     "output_type": "execute_result"
    }
   ],
   "source": [
    "\n",
    "clusters[0]"
   ]
  },
  {
   "cell_type": "code",
   "execution_count": 44,
   "id": "ffa297d9",
   "metadata": {},
   "outputs": [
    {
     "data": {
      "text/plain": [
       "56"
      ]
     },
     "execution_count": 44,
     "metadata": {},
     "output_type": "execute_result"
    }
   ],
   "source": [
    "\n",
    "cluster = clusters[0]\n",
    "num_points = len(ms_df[ms_df['cluster_label'] == cluster])\n",
    "num_points"
   ]
  },
  {
   "cell_type": "code",
   "execution_count": 45,
   "id": "8afea647",
   "metadata": {},
   "outputs": [],
   "source": [
    "points_coordinate = ms_df[ms_df['cluster_label'] == cluster][['longitude','latitude']]"
   ]
  },
  {
   "cell_type": "code",
   "execution_count": 46,
   "id": "36a315d3",
   "metadata": {},
   "outputs": [],
   "source": [
    "import numpy as np\n",
    "from scipy import spatial\n",
    "import matplotlib.pyplot as plt\n",
    "import math\n",
    "\n",
    "\n",
    "\n",
    "distance_matrix = spatial.distance.cdist(points_coordinate, points_coordinate, metric='euclidean')\n",
    "\n",
    "\n",
    "def cal_total_distance(routine):\n",
    "    '''The objective function. input routine, return total distance.\n",
    "    cal_total_distance(np.arange(num_points))\n",
    "    '''\n",
    "    num_points, = routine.shape\n",
    "    return sum([distance_matrix[routine[i % num_points], routine[(i + 1) % num_points]] for i in range(num_points)])"
   ]
  },
  {
   "cell_type": "code",
   "execution_count": 47,
   "id": "375704a3",
   "metadata": {},
   "outputs": [],
   "source": [
    "#1. Genetic Algorithm for TSP\n",
    "\n",
    "from sko.GA import GA_TSP\n",
    "\n",
    "ga_tsp = GA_TSP(func=cal_total_distance, n_dim=num_points, size_pop=50, max_iter=500, prob_mut=1)\n",
    "best_points, best_distance = ga_tsp.run()"
   ]
  },
  {
   "cell_type": "code",
   "execution_count": 48,
   "id": "c8b19940",
   "metadata": {},
   "outputs": [
    {
     "data": {
      "text/plain": [
       "array([18, 25, 33, 29, 48,  5,  3, 47, 20, 38, 27, 50, 43, 41,  2, 32, 53,\n",
       "       11, 28, 24,  9,  7, 34, 10, 44,  6,  8, 49, 55, 30, 42,  0, 21, 37,\n",
       "       22, 40, 19, 51, 45, 15, 36, 46, 35, 14,  1, 12, 31, 17, 16,  4, 54,\n",
       "       39, 26, 23, 13, 52], dtype=int64)"
      ]
     },
     "execution_count": 48,
     "metadata": {},
     "output_type": "execute_result"
    }
   ],
   "source": [
    "best_points"
   ]
  },
  {
   "cell_type": "code",
   "execution_count": 49,
   "id": "cc7f4247",
   "metadata": {},
   "outputs": [
    {
     "data": {
      "text/plain": [
       "array([0.12587507])"
      ]
     },
     "execution_count": 49,
     "metadata": {},
     "output_type": "execute_result"
    }
   ],
   "source": [
    "best_distance"
   ]
  },
  {
   "cell_type": "code",
   "execution_count": 50,
   "id": "f73604e1",
   "metadata": {},
   "outputs": [],
   "source": [
    "#2. Simulated Annealing (SA) for TSP\n",
    "\n",
    "from sko.SA import SA_TSP\n",
    "\n",
    "sa_tsp = SA_TSP(func=cal_total_distance, x0=range(num_points), T_max=500, T_min=0.1)\n",
    "\n",
    "best_points, best_distance = sa_tsp.run()"
   ]
  },
  {
   "cell_type": "code",
   "execution_count": 51,
   "id": "a639564e",
   "metadata": {},
   "outputs": [
    {
     "data": {
      "text/plain": [
       "array([37,  0, 21, 24, 53, 50,  2, 49, 34, 20, 29, 11, 10,  5, 39, 28, 18,\n",
       "        7, 30, 19, 44, 14, 46, 45, 15, 13, 47, 51,  4, 31,  1, 55,  6, 40,\n",
       "       33, 36, 22, 25, 52, 27, 54, 17, 16, 23,  8, 35, 38,  3, 43, 41, 32,\n",
       "       42, 26, 12,  9, 48])"
      ]
     },
     "execution_count": 51,
     "metadata": {},
     "output_type": "execute_result"
    }
   ],
   "source": [
    "best_points"
   ]
  },
  {
   "cell_type": "code",
   "execution_count": 52,
   "id": "9dfc5737",
   "metadata": {},
   "outputs": [
    {
     "name": "stdout",
     "output_type": "stream",
     "text": [
      "for cluster number  1\n",
      "num_points =  41\n",
      "\n",
      "====> Genetic Algorithm\n",
      "best_points =  [18 27  3 20 38  5 29 40 19 15 36 35 14 23 26 13 39  4 16 17 31 12  1 21\n",
      " 37 22  0  7 30  8  6 10 34 28  9 24 11 32  2 33 25]\n",
      "best_distance =  [0.0960528]\n",
      "\n",
      "====> Simulated Annealing\n",
      "best_points =  [ 9 27  3 32  0 37  5 40 21 12 14 16  4 31 17 36  8 23 33 11 18 28 29  1\n",
      " 25 34 15 39 24 10 19  7 22  6 30 38 20 35 13 26  2]\n",
      "best_distance =  0.24200690974694603\n"
     ]
    }
   ],
   "source": [
    "# to start with the cluster 1\n",
    "cluster = clusters[1]\n",
    "print('for cluster number ', cluster)\n",
    "num_points = len(ms_df[ms_df['cluster_label'] == cluster])\n",
    "print('num_points = ',num_points)\n",
    "# Genetic Algorithm\n",
    "print('\\n====> Genetic Algorithm')\n",
    "ga_tsp = GA_TSP(func=cal_total_distance, n_dim=num_points, size_pop=50, max_iter=500, prob_mut=1)\n",
    "best_points, best_distance = ga_tsp.run()\n",
    "print('best_points = ', best_points)\n",
    "print('best_distance = ',best_distance)\n",
    "# Simulated Annealing\n",
    "print('\\n====> Simulated Annealing')\n",
    "sa_tsp = SA_TSP(func=cal_total_distance, x0=range(num_points), T_max=500, T_min=0.1)\n",
    "best_points, best_distance = sa_tsp.run()\n",
    "print('best_points = ', best_points)\n",
    "print('best_distance = ',best_distance)"
   ]
  }
 ],
 "metadata": {
  "kernelspec": {
   "display_name": "Python 3 (ipykernel)",
   "language": "python",
   "name": "python3"
  },
  "language_info": {
   "codemirror_mode": {
    "name": "ipython",
    "version": 3
   },
   "file_extension": ".py",
   "mimetype": "text/x-python",
   "name": "python",
   "nbconvert_exporter": "python",
   "pygments_lexer": "ipython3",
   "version": "3.9.7"
  }
 },
 "nbformat": 4,
 "nbformat_minor": 5
}
